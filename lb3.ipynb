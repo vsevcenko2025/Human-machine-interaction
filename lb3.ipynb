{
  "nbformat": 4,
  "nbformat_minor": 0,
  "metadata": {
    "colab": {
      "provenance": [],
      "gpuType": "T4"
    },
    "kernelspec": {
      "name": "python3",
      "display_name": "Python 3"
    },
    "language_info": {
      "name": "python"
    },
    "accelerator": "GPU"
  },
  "cells": [
    {
      "cell_type": "code",
      "execution_count": 1,
      "metadata": {
        "colab": {
          "base_uri": "https://localhost:8080/",
          "height": 73
        },
        "id": "UPG2Ofl39-Q1",
        "outputId": "7d3a0c51-fc31-4ba5-e7f1-f17166db7499"
      },
      "outputs": [
        {
          "output_type": "display_data",
          "data": {
            "text/plain": [
              "<IPython.core.display.HTML object>"
            ],
            "text/html": [
              "\n",
              "     <input type=\"file\" id=\"files-1276838a-9add-42a9-96d7-38705923e320\" name=\"files[]\" multiple disabled\n",
              "        style=\"border:none\" />\n",
              "     <output id=\"result-1276838a-9add-42a9-96d7-38705923e320\">\n",
              "      Upload widget is only available when the cell has been executed in the\n",
              "      current browser session. Please rerun this cell to enable.\n",
              "      </output>\n",
              "      <script>// Copyright 2017 Google LLC\n",
              "//\n",
              "// Licensed under the Apache License, Version 2.0 (the \"License\");\n",
              "// you may not use this file except in compliance with the License.\n",
              "// You may obtain a copy of the License at\n",
              "//\n",
              "//      http://www.apache.org/licenses/LICENSE-2.0\n",
              "//\n",
              "// Unless required by applicable law or agreed to in writing, software\n",
              "// distributed under the License is distributed on an \"AS IS\" BASIS,\n",
              "// WITHOUT WARRANTIES OR CONDITIONS OF ANY KIND, either express or implied.\n",
              "// See the License for the specific language governing permissions and\n",
              "// limitations under the License.\n",
              "\n",
              "/**\n",
              " * @fileoverview Helpers for google.colab Python module.\n",
              " */\n",
              "(function(scope) {\n",
              "function span(text, styleAttributes = {}) {\n",
              "  const element = document.createElement('span');\n",
              "  element.textContent = text;\n",
              "  for (const key of Object.keys(styleAttributes)) {\n",
              "    element.style[key] = styleAttributes[key];\n",
              "  }\n",
              "  return element;\n",
              "}\n",
              "\n",
              "// Max number of bytes which will be uploaded at a time.\n",
              "const MAX_PAYLOAD_SIZE = 100 * 1024;\n",
              "\n",
              "function _uploadFiles(inputId, outputId) {\n",
              "  const steps = uploadFilesStep(inputId, outputId);\n",
              "  const outputElement = document.getElementById(outputId);\n",
              "  // Cache steps on the outputElement to make it available for the next call\n",
              "  // to uploadFilesContinue from Python.\n",
              "  outputElement.steps = steps;\n",
              "\n",
              "  return _uploadFilesContinue(outputId);\n",
              "}\n",
              "\n",
              "// This is roughly an async generator (not supported in the browser yet),\n",
              "// where there are multiple asynchronous steps and the Python side is going\n",
              "// to poll for completion of each step.\n",
              "// This uses a Promise to block the python side on completion of each step,\n",
              "// then passes the result of the previous step as the input to the next step.\n",
              "function _uploadFilesContinue(outputId) {\n",
              "  const outputElement = document.getElementById(outputId);\n",
              "  const steps = outputElement.steps;\n",
              "\n",
              "  const next = steps.next(outputElement.lastPromiseValue);\n",
              "  return Promise.resolve(next.value.promise).then((value) => {\n",
              "    // Cache the last promise value to make it available to the next\n",
              "    // step of the generator.\n",
              "    outputElement.lastPromiseValue = value;\n",
              "    return next.value.response;\n",
              "  });\n",
              "}\n",
              "\n",
              "/**\n",
              " * Generator function which is called between each async step of the upload\n",
              " * process.\n",
              " * @param {string} inputId Element ID of the input file picker element.\n",
              " * @param {string} outputId Element ID of the output display.\n",
              " * @return {!Iterable<!Object>} Iterable of next steps.\n",
              " */\n",
              "function* uploadFilesStep(inputId, outputId) {\n",
              "  const inputElement = document.getElementById(inputId);\n",
              "  inputElement.disabled = false;\n",
              "\n",
              "  const outputElement = document.getElementById(outputId);\n",
              "  outputElement.innerHTML = '';\n",
              "\n",
              "  const pickedPromise = new Promise((resolve) => {\n",
              "    inputElement.addEventListener('change', (e) => {\n",
              "      resolve(e.target.files);\n",
              "    });\n",
              "  });\n",
              "\n",
              "  const cancel = document.createElement('button');\n",
              "  inputElement.parentElement.appendChild(cancel);\n",
              "  cancel.textContent = 'Cancel upload';\n",
              "  const cancelPromise = new Promise((resolve) => {\n",
              "    cancel.onclick = () => {\n",
              "      resolve(null);\n",
              "    };\n",
              "  });\n",
              "\n",
              "  // Wait for the user to pick the files.\n",
              "  const files = yield {\n",
              "    promise: Promise.race([pickedPromise, cancelPromise]),\n",
              "    response: {\n",
              "      action: 'starting',\n",
              "    }\n",
              "  };\n",
              "\n",
              "  cancel.remove();\n",
              "\n",
              "  // Disable the input element since further picks are not allowed.\n",
              "  inputElement.disabled = true;\n",
              "\n",
              "  if (!files) {\n",
              "    return {\n",
              "      response: {\n",
              "        action: 'complete',\n",
              "      }\n",
              "    };\n",
              "  }\n",
              "\n",
              "  for (const file of files) {\n",
              "    const li = document.createElement('li');\n",
              "    li.append(span(file.name, {fontWeight: 'bold'}));\n",
              "    li.append(span(\n",
              "        `(${file.type || 'n/a'}) - ${file.size} bytes, ` +\n",
              "        `last modified: ${\n",
              "            file.lastModifiedDate ? file.lastModifiedDate.toLocaleDateString() :\n",
              "                                    'n/a'} - `));\n",
              "    const percent = span('0% done');\n",
              "    li.appendChild(percent);\n",
              "\n",
              "    outputElement.appendChild(li);\n",
              "\n",
              "    const fileDataPromise = new Promise((resolve) => {\n",
              "      const reader = new FileReader();\n",
              "      reader.onload = (e) => {\n",
              "        resolve(e.target.result);\n",
              "      };\n",
              "      reader.readAsArrayBuffer(file);\n",
              "    });\n",
              "    // Wait for the data to be ready.\n",
              "    let fileData = yield {\n",
              "      promise: fileDataPromise,\n",
              "      response: {\n",
              "        action: 'continue',\n",
              "      }\n",
              "    };\n",
              "\n",
              "    // Use a chunked sending to avoid message size limits. See b/62115660.\n",
              "    let position = 0;\n",
              "    do {\n",
              "      const length = Math.min(fileData.byteLength - position, MAX_PAYLOAD_SIZE);\n",
              "      const chunk = new Uint8Array(fileData, position, length);\n",
              "      position += length;\n",
              "\n",
              "      const base64 = btoa(String.fromCharCode.apply(null, chunk));\n",
              "      yield {\n",
              "        response: {\n",
              "          action: 'append',\n",
              "          file: file.name,\n",
              "          data: base64,\n",
              "        },\n",
              "      };\n",
              "\n",
              "      let percentDone = fileData.byteLength === 0 ?\n",
              "          100 :\n",
              "          Math.round((position / fileData.byteLength) * 100);\n",
              "      percent.textContent = `${percentDone}% done`;\n",
              "\n",
              "    } while (position < fileData.byteLength);\n",
              "  }\n",
              "\n",
              "  // All done.\n",
              "  yield {\n",
              "    response: {\n",
              "      action: 'complete',\n",
              "    }\n",
              "  };\n",
              "}\n",
              "\n",
              "scope.google = scope.google || {};\n",
              "scope.google.colab = scope.google.colab || {};\n",
              "scope.google.colab._files = {\n",
              "  _uploadFiles,\n",
              "  _uploadFilesContinue,\n",
              "};\n",
              "})(self);\n",
              "</script> "
            ]
          },
          "metadata": {}
        },
        {
          "output_type": "stream",
          "name": "stdout",
          "text": [
            "Saving test_vocabulary.txt to test_vocabulary.txt\n"
          ]
        }
      ],
      "source": [
        "from google.colab import files\n",
        "\n",
        "uploaded = files.upload()"
      ]
    },
    {
      "cell_type": "code",
      "source": [
        "\n",
        "!wget -c https://dl.fbaipublicfiles.com/fasttext/vectors-crawl/cc.uk.300.vec.gz\n",
        "!gunzip -k cc.uk.300.vec.gz"
      ],
      "metadata": {
        "colab": {
          "base_uri": "https://localhost:8080/"
        },
        "id": "CPIoNnRN_MQ5",
        "outputId": "221b2d38-5777-4d91-a2fc-befc4bd2e664"
      },
      "execution_count": 2,
      "outputs": [
        {
          "output_type": "stream",
          "name": "stdout",
          "text": [
            "--2025-06-06 06:49:58--  https://dl.fbaipublicfiles.com/fasttext/vectors-crawl/cc.uk.300.vec.gz\n",
            "Resolving dl.fbaipublicfiles.com (dl.fbaipublicfiles.com)... 3.163.189.51, 3.163.189.14, 3.163.189.96, ...\n",
            "Connecting to dl.fbaipublicfiles.com (dl.fbaipublicfiles.com)|3.163.189.51|:443... connected.\n",
            "HTTP request sent, awaiting response... 200 OK\n",
            "Length: 1257595219 (1.2G) [binary/octet-stream]\n",
            "Saving to: ‘cc.uk.300.vec.gz’\n",
            "\n",
            "cc.uk.300.vec.gz    100%[===================>]   1.17G  62.0MB/s    in 21s     \n",
            "\n",
            "2025-06-06 06:50:20 (56.8 MB/s) - ‘cc.uk.300.vec.gz’ saved [1257595219/1257595219]\n",
            "\n"
          ]
        }
      ]
    },
    {
      "cell_type": "code",
      "source": [
        "import numpy as np\n",
        "\n",
        "word_vectors = {}\n",
        "\n",
        "with open(\"cc.uk.300.vec\", \"r\", encoding=\"utf-8\") as f:\n",
        "    next(f)  # Пропускаємо перший рядок з розмірністю\n",
        "    for line in f:\n",
        "        parts = line.rstrip().split(' ')\n",
        "        word = parts[0]\n",
        "        vec = np.array(parts[1:], dtype=float)\n",
        "        word_vectors[word] = vec\n",
        "\n",
        "print(f\"Завантажено {len(word_vectors)} векторів\")"
      ],
      "metadata": {
        "colab": {
          "base_uri": "https://localhost:8080/"
        },
        "id": "sOiKCcKkAiSS",
        "outputId": "d789590c-5277-4b17-941b-87e3dba5d91c"
      },
      "execution_count": 3,
      "outputs": [
        {
          "output_type": "stream",
          "name": "stdout",
          "text": [
            "Завантажено 2000000 векторів\n"
          ]
        }
      ]
    },
    {
      "cell_type": "code",
      "source": [
        "\n",
        "quad_file = \"test_vocabulary.txt\"\n",
        "\n",
        "raw_quads = []\n",
        "with open(quad_file, \"r\", encoding=\"utf-8\") as f:\n",
        "    for line in f:\n",
        "        if ':' in line and 'adjective-adverb' in line:\n",
        "            continue  # пропускаємо заголовок\n",
        "        parts = line.strip().split('\\t')\n",
        "        if len(parts) == 4:\n",
        "            raw_quads.append(tuple(parts))\n",
        "\n",
        "print(f\"Знайдено четвірок у файлі: {len(raw_quads)}\")"
      ],
      "metadata": {
        "colab": {
          "base_uri": "https://localhost:8080/"
        },
        "id": "NNXseFfjBlHR",
        "outputId": "b8c82de6-4de7-49a2-82b0-f0bc4ca78d99"
      },
      "execution_count": 4,
      "outputs": [
        {
          "output_type": "stream",
          "name": "stdout",
          "text": [
            "Знайдено четвірок у файлі: 23970\n"
          ]
        }
      ]
    },
    {
      "cell_type": "code",
      "source": [
        "valid_quads = []\n",
        "\n",
        "for adj1, adv1, adj2, adv2 in raw_quads:\n",
        "    if adj1 in word_vectors and adv1 in word_vectors and adj2 in word_vectors and adv2 in word_vectors:\n",
        "        valid_quads.append((adj1, adv1, adj2, adv2))\n",
        "\n",
        "print(f\"Кількість валідних четвірок: {len(valid_quads)}\")"
      ],
      "metadata": {
        "colab": {
          "base_uri": "https://localhost:8080/"
        },
        "id": "34VheFL8BnkH",
        "outputId": "65a59a76-842b-4d36-ac32-75f3485229c6"
      },
      "execution_count": 5,
      "outputs": [
        {
          "output_type": "stream",
          "name": "stdout",
          "text": [
            "Кількість валідних четвірок: 17000\n"
          ]
        }
      ]
    },
    {
      "cell_type": "code",
      "source": [
        "\n",
        "def cosine_similarity(vec1, vec2):\n",
        "    return np.dot(vec1, vec2) / (np.linalg.norm(vec1) * np.linalg.norm(vec2))\n",
        "\n",
        "# Аналогія через cosine: adj1 : adv1 = adj2 : ?\n",
        "def find_best_adv_cosine(adj1, adv1, adj2, word_vectors):\n",
        "    target_vec = word_vectors[adv1] - word_vectors[adj1] + word_vectors[adj2]\n",
        "    best_score = -1\n",
        "    best_word = None\n",
        "    for word, vec in word_vectors.items():\n",
        "        if word in {adj1, adv1, adj2}:\n",
        "            continue\n",
        "        sim = cosine_similarity(target_vec, vec)\n",
        "        if sim > best_score:\n",
        "            best_score = sim\n",
        "            best_word = word\n",
        "    return best_word, best_score"
      ],
      "metadata": {
        "id": "LCbksen7Bv2G"
      },
      "execution_count": 6,
      "outputs": []
    },
    {
      "cell_type": "code",
      "source": [
        "import random\n",
        "from tqdm import tqdm\n",
        "\n",
        "\n",
        "sample_quads = random.sample(valid_quads, 1000)\n",
        "\n",
        "\n",
        "limited_words = list(word_vectors.keys())[:100000]\n",
        "limited_vectors = {w: word_vectors[w] for w in limited_words}\n",
        "\n",
        "\n",
        "def find_best_adv_cosine_fast(adj1, adv1, adj2):\n",
        "    target_vec = word_vectors[adv1] - word_vectors[adj1] + word_vectors[adj2]\n",
        "    best_score = -1\n",
        "    best_word = None\n",
        "    for word in limited_words:\n",
        "        if word in {adj1, adv1, adj2}:\n",
        "            continue\n",
        "        sim = cosine_similarity(target_vec, word_vectors[word])\n",
        "        if sim > best_score:\n",
        "            best_score = sim\n",
        "            best_word = word\n",
        "    return best_word\n",
        "\n",
        "correct = 0\n",
        "\n",
        "print(\"Обчислення точності на 1000 четвірках...\")\n",
        "for quad in tqdm(sample_quads):\n",
        "    adj1, adv1, adj2, adv2 = quad\n",
        "    predicted = find_best_adv_cosine_fast(adj1, adv1, adj2)\n",
        "    if predicted == adv2:\n",
        "        correct += 1\n",
        "\n",
        "accuracy = correct / len(sample_quads)\n",
        "print(f\"\\n✅ Точність на тестовій вибірці: {accuracy:.4f} ({correct} з {len(sample_quads)})\")"
      ],
      "metadata": {
        "colab": {
          "base_uri": "https://localhost:8080/"
        },
        "id": "VnRxubGUCIpf",
        "outputId": "e0c33a21-1d1b-472f-f29c-2a31597e947e"
      },
      "execution_count": 8,
      "outputs": [
        {
          "output_type": "stream",
          "name": "stdout",
          "text": [
            "Обчислення точності на 1000 четвірках...\n"
          ]
        },
        {
          "output_type": "stream",
          "name": "stderr",
          "text": [
            "100%|██████████| 1000/1000 [14:51<00:00,  1.12it/s]"
          ]
        },
        {
          "output_type": "stream",
          "name": "stdout",
          "text": [
            "\n",
            "✅ Точність на тестовій вибірці: 0.3230 (323 з 1000)\n"
          ]
        },
        {
          "output_type": "stream",
          "name": "stderr",
          "text": [
            "\n"
          ]
        }
      ]
    },
    {
      "cell_type": "code",
      "source": [
        "import matplotlib.pyplot as plt\n",
        "from sklearn.decomposition import PCA\n",
        "\n",
        "# Випадкові 20 пар\n",
        "sample_pairs = random.sample(valid_quads, 20)\n",
        "\n",
        "# Збираємо слова і вектори\n",
        "words = []\n",
        "vectors = []\n",
        "for adj, adv, _, _ in sample_pairs:\n",
        "    if adj in word_vectors and adv in word_vectors:\n",
        "        words.extend([adj, adv])\n",
        "        vectors.append(word_vectors[adj])\n",
        "        vectors.append(word_vectors[adv])\n",
        "\n",
        "# PCA: 300 → 2 виміри\n",
        "pca = PCA(n_components=2)\n",
        "projected = pca.fit_transform(vectors)\n",
        "\n",
        "# Візуалізація\n",
        "plt.figure(figsize=(10, 8))\n",
        "for i in range(0, len(projected), 2):\n",
        "    adj = words[i]\n",
        "    adv = words[i+1]\n",
        "    x1, y1 = projected[i]\n",
        "    x2, y2 = projected[i+1]\n",
        "\n",
        "    # Стрілка: прикметник → прислівник\n",
        "    plt.arrow(x1, y1, x2 - x1, y2 - y1, head_width=0.05, color='blue', alpha=0.5)\n",
        "\n",
        "    # Тексти\n",
        "    plt.text(x1, y1, adj, fontsize=9, color='darkgreen')\n",
        "    plt.text(x2, y2, adv, fontsize=9, color='darkred')\n",
        "\n",
        "plt.title(\"PCA-проекція прикметників і прислівників\")\n",
        "plt.grid(True)\n",
        "plt.show()"
      ],
      "metadata": {
        "colab": {
          "base_uri": "https://localhost:8080/",
          "height": 699
        },
        "id": "Hy-B1fMqSGdI",
        "outputId": "0a90d0e2-bcb5-4fb7-cb01-2d5af933f865"
      },
      "execution_count": 11,
      "outputs": [
        {
          "output_type": "display_data",
          "data": {
            "text/plain": [
              "<Figure size 1000x800 with 1 Axes>"
            ],
            "image/png": "[encoded data removed]"
          },
          "metadata": {}
        }
      ]
    },
    {
      "cell_type": "code",
      "source": [
        "import json\n",
        "\n",
        "sample_size = 1000  # або більше, як хочеш\n",
        "sample_quads = random.sample(valid_quads, sample_size)\n",
        "\n",
        "results = []\n",
        "correct = 0\n",
        "\n",
        "print(f\"🔍 Тестування на {sample_size} четвірках...\")\n",
        "\n",
        "for adj1, adv1, adj2, adv2 in tqdm(sample_quads):\n",
        "    predicted = find_best_adv_cosine_fast(adj1, adv1, adj2)\n",
        "    is_correct = predicted == adv2\n",
        "    if is_correct:\n",
        "        correct += 1\n",
        "    results.append({\n",
        "        \"adj1\": adj1,\n",
        "        \"adv1\": adv1,\n",
        "        \"adj2\": adj2,\n",
        "        \"expected_adv2\": adv2,\n",
        "        \"predicted_adv2\": predicted,\n",
        "        \"correct\": is_correct\n",
        "    })\n",
        "\n",
        "accuracy = correct / sample_size\n",
        "print(f\"\\n✅ Точність: {accuracy:.4f} ({correct} з {sample_size})\")\n",
        "\n",
        "# Збереження в JSON\n",
        "with open(\"analogy_results.json\", \"w\", encoding=\"utf-8\") as f:\n",
        "    json.dump(results, f, ensure_ascii=False, indent=2)\n",
        "\n",
        "print(\"📁 Результати збережено в файл: analogy_results.json\")"
      ],
      "metadata": {
        "colab": {
          "base_uri": "https://localhost:8080/"
        },
        "id": "eMzKo59fSkql",
        "outputId": "dc8b47c9-7de2-47ee-c5fc-e9ea5a84f6b8"
      },
      "execution_count": 13,
      "outputs": [
        {
          "output_type": "stream",
          "name": "stdout",
          "text": [
            "🔍 Тестування на 1000 четвірках...\n"
          ]
        },
        {
          "output_type": "stream",
          "name": "stderr",
          "text": [
            "100%|██████████| 1000/1000 [15:16<00:00,  1.09it/s]"
          ]
        },
        {
          "output_type": "stream",
          "name": "stdout",
          "text": [
            "\n",
            "✅ Точність: 0.3450 (345 з 1000)\n",
            "📁 Результати збережено в файл: analogy_results.json\n"
          ]
        },
        {
          "output_type": "stream",
          "name": "stderr",
          "text": [
            "\n"
          ]
        }
      ]
    },
    {
      "cell_type": "code",
      "source": [
        ""
      ],
      "metadata": {
        "id": "1NZTCNclSphD"
      },
      "execution_count": null,
      "outputs": []
    }
  ]
}